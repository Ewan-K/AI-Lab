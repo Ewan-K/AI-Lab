{
 "cells": [
  {
   "cell_type": "markdown",
   "metadata": {},
   "source": [
    "# 1 棋盘"
   ]
  },
  {
   "cell_type": "code",
   "execution_count": null,
   "metadata": {},
   "outputs": [],
   "source": [
    "# 导入棋盘文件\n",
    "from board import Board\n",
    "\n",
    "# 初始化棋盘\n",
    "board = Board()\n",
    "\n",
    "# 打印初始化棋盘\n",
    "board.display()"
   ]
  },
  {
   "cell_type": "markdown",
   "metadata": {},
   "source": [
    "## 1.1 棋盘与坐标之间的关系    \n",
    "\n",
    "||A|B|C|D|E|F|G|H|\n",
    "|:--:|:--:|:--:|:--:|:--:|:--:|:--:|:--:|:--:|\n",
    "|1|(0,0)|(0,1)|(0,2)|(0,3)|(0,4)|(0,5)|(0,6)|(0,7)|\n",
    "|2|(1,0)|(1,1)|(1,2)|(1,3)|(1,4)|(1,5)|(1,6)|(1,7)|\n",
    "|3|(2,0)|(2,1)|(2,2)|(2,3)|(2,4)|(2,5)|(2,6)|(2,7)|\n",
    "|4|(3,0)|(3,1)|(3,2)|(3,3)|(3,4)|(3,5)|(3,6)|(3,7)|\n",
    "|5|(4,0)|(4,1)|(4,2)|(4,3)|(4,4)|(4,5)|(4,6)|(4,7)|\n",
    "|6|(5,0)|(5,1)|(5,2)|(5,3)|(5,4)|(5,5)|(5,6)|(5,7)|\n",
    "|7|(6,0)|(6,1)|(6,2)|(6,3)|(6,4)|(6,5)|(6,6)|(6,7)|\n",
    "|8|(7,0)|(7,1)|(7,2)|(7,3)|(7,4)|(7,5)|(7,6)|(7,7)|"
   ]
  },
  {
   "cell_type": "markdown",
   "metadata": {},
   "source": [
    "棋盘坐标 E4, 转化为坐标形式就是 (3, 4), 坐标数值大小是从 0 开始，到 7 结束。  \n",
    "\n",
    "Board 类中，提供以上两种坐标的转化方法：\n",
    "+ `board_num(action)`: 棋盘坐标转化为数字坐标。\n",
    "    + action: 棋盘坐标，e.g. 'G6'\n",
    "    + 返回值: 数字坐标，e.g. (5, 6)\n",
    "+ `num_board(action)`: 数字坐标转化为棋盘坐标。\n",
    "    + action: 数字坐标，e.g. (2, 7)\n",
    "    + 返回值: 棋盘坐标，e.g. 'H3'"
   ]
  },
  {
   "cell_type": "code",
   "execution_count": null,
   "metadata": {},
   "outputs": [],
   "source": [
    "# 查看坐标 (4,3) 在棋盘上的位置 \n",
    "position = (4, 3)\n",
    "print(board.num_board(position))\n",
    "\n",
    "# 查看棋盘位置 'G2' 的坐标\n",
    "position = 'G2'\n",
    "print(board.board_num(position))"
   ]
  },
  {
   "cell_type": "markdown",
   "metadata": {},
   "source": [
    "## 1.2 Board 类中比较重要的方法\n",
    "  + `get_legal_actions(color)`： 根据黑白棋的规则获取 color 方棋子的合法落子坐标，用 `list()` 方法可以获取所有的合法坐标。\n",
    "    + color: 下棋方，'X' - 黑棋，'O' - 白棋\n",
    "    + 返回值: 合法的落子坐标列表  "
   ]
  },
  {
   "cell_type": "code",
   "execution_count": null,
   "metadata": {},
   "outputs": [],
   "source": [
    "# 棋盘初始化后，黑方可以落子的位置\n",
    "print(list(board.get_legal_actions('X')))"
   ]
  },
  {
   "cell_type": "markdown",
   "metadata": {},
   "source": [
    "  \n",
    "+  `_move(action, color)`：  根据 color 落子坐标 action 获取翻转棋子的坐标。  \n",
    "    + action: 落子的坐标，e.g. 'C4'\n",
    "    + color: 下棋方，'X' - 黑棋，'O' - 白棋\n",
    "    + 返回值: 反转棋子棋盘坐标列表\n",
    "\n"
   ]
  },
  {
   "cell_type": "code",
   "execution_count": null,
   "metadata": {},
   "outputs": [],
   "source": [
    "# 打印初始化后的棋盘\n",
    "board.display()\n",
    "\n",
    "# 假设现在黑棋下棋，可以落子的位置有：['D3', 'C4', 'F5', 'E6']，\n",
    "# 黑棋落子 D3 , 则白棋被翻转的棋子是 D4。 \n",
    "\n",
    "# 表示黑棋\n",
    "color = 'X' \n",
    "\n",
    "# 落子坐标\n",
    "action = 'D3' \n",
    "\n",
    "# 打印白方被翻转的棋子位置\n",
    "print(board._move(action,color))\n",
    "\n",
    "# 打印棋盘\n",
    "board.display() "
   ]
  },
  {
   "cell_type": "markdown",
   "metadata": {},
   "source": [
    "# 2 创建随机玩家"
   ]
  },
  {
   "cell_type": "code",
   "execution_count": null,
   "metadata": {
    "deletable": false
   },
   "outputs": [],
   "source": [
    "# 导入随机包\n",
    "import random\n",
    "\n",
    "class RandomPlayer:\n",
    "    \"\"\"\n",
    "    随机玩家, 随机返回一个合法落子位置\n",
    "    \"\"\"\n",
    "\n",
    "    def __init__(self, color):\n",
    "        \"\"\"\n",
    "        玩家初始化\n",
    "        :param color: 下棋方，'X' - 黑棋，'O' - 白棋\n",
    "        \"\"\"\n",
    "        self.color = color\n",
    "        \n",
    "\n",
    "    def random_choice(self, board):\n",
    "        \"\"\"\n",
    "        从合法落子位置中随机选一个落子位置\n",
    "        :param board: 棋盘\n",
    "        :return: 随机合法落子位置, e.g. 'A1' \n",
    "        \"\"\"\n",
    "        # 用 list() 方法获取所有合法落子位置坐标列表\n",
    "        action_list = list(board.get_legal_actions(self.color))\n",
    "\n",
    "        # 如果 action_list 为空，则返回 None,否则从中选取一个随机元素，即合法的落子坐标\n",
    "        if len(action_list) == 0:\n",
    "            return None\n",
    "        else:\n",
    "            return random.choice(action_list)\n",
    "\n",
    "    def get_move(self, board):\n",
    "        \"\"\"\n",
    "        根据当前棋盘状态获取最佳落子位置\n",
    "        :param board: 棋盘\n",
    "        :return: action 最佳落子位置, e.g. 'A1'\n",
    "        \"\"\"\n",
    "        if self.color == 'X':\n",
    "            player_name = '黑棋'\n",
    "        else:\n",
    "            player_name = '白棋'\n",
    "        print(\"请等一会，对方 {}-{} 正在思考中...\".format(player_name, self.color))\n",
    "        action = self.random_choice(board)\n",
    "        return action"
   ]
  },
  {
   "source": [
    "\n",
    "随机玩家 RandomPlayer 主要是随机获取一个合法落子位置。后续随机玩家可以跟人类玩家、AI 玩家等进行对弈。 \n"
   ],
   "cell_type": "markdown",
   "metadata": {}
  },
  {
   "cell_type": "markdown",
   "metadata": {},
   "source": [
    "随机玩家 `get_move()` 方法, 主要思路：\n",
    "+ 随机玩家的 `get_move()` 方法主要调用了 `random_choice()` 方法。  \n",
    "+ `random_choice()` 方法是：先用 `list()` 方法获取合法落子位置坐标列表，然后用 `random.choice()` 方法随机获取合法落子位置中的一个。   "
   ]
  },
  {
   "cell_type": "code",
   "execution_count": null,
   "metadata": {
    "deletable": false
   },
   "outputs": [],
   "source": [
    "# 导入棋盘文件\n",
    "from board import Board\n",
    "\n",
    "# 棋盘初始化\n",
    "board = Board() \n",
    "\n",
    "# 打印初始化棋盘\n",
    "board.display() \n",
    "\n",
    "# 玩家初始化，输入黑棋玩家\n",
    "black_player = RandomPlayer(\"X\") \n",
    "\n",
    "# 黑棋玩家的随机落子位置\n",
    "black_action = black_player.get_move(board)  \n",
    "\n",
    "\n",
    "print(\"黑棋玩家落子位置: %s\"%(black_action))\n",
    "\n",
    "# 打印白方被翻转的棋子位置\n",
    "print(\"黑棋落子后反转白棋的棋子坐标：\",board._move(black_action,black_player.color))\n",
    "\n",
    "# 打印黑棋随机落子后的棋盘\n",
    "board.display() \n",
    "\n",
    "# 玩家初始化，输入白棋玩家\n",
    "white_player = RandomPlayer(\"O\") \n",
    "\n",
    "# 白棋玩家的随机落子位置\n",
    "white_action = white_player.get_move(board) \n",
    "\n",
    "print(\"白棋玩家落子位置:%s\"%(white_action))\n",
    "\n",
    "# 打印黑棋方被翻转的棋子位置\n",
    "print(\"白棋落子后反转黑棋的棋子坐标：\",board._move(white_action,white_player.color))\n",
    "\n",
    "# 打印白棋随机落子后的棋盘\n",
    "board.display() "
   ]
  },
  {
   "cell_type": "markdown",
   "metadata": {},
   "source": [
    "# 3 创建人类玩家\n",
    "人类玩家 HumanPlayer 主要实现 `get_move()` 方法。"
   ]
  },
  {
   "cell_type": "code",
   "execution_count": null,
   "metadata": {},
   "outputs": [],
   "source": [
    "class HumanPlayer:\n",
    "    \"\"\"\n",
    "    人类玩家\n",
    "    \"\"\"\n",
    "\n",
    "    def __init__(self, color):\n",
    "        \"\"\"\n",
    "        玩家初始化\n",
    "        :param color: 下棋方，'X' - 黑棋，'O' - 白棋\n",
    "        \"\"\"\n",
    "        self.color = color\n",
    "    \n",
    "\n",
    "    def get_move(self, board):\n",
    "        \"\"\"\n",
    "        根据当前棋盘输入人类合法落子位置\n",
    "        :param board: 棋盘\n",
    "        :return: 人类下棋落子位置\n",
    "        \"\"\"\n",
    "        # 如果 self.color 是黑棋 \"X\",则 player 是 \"黑棋\"，否则是 \"白棋\"\n",
    "        if self.color == \"X\":\n",
    "            player = \"黑棋\"\n",
    "        else:\n",
    "            player = \"白棋\"\n",
    "\n",
    "        # 人类玩家输入落子位置，如果输入 'Q', 则返回 'Q'并结束比赛。\n",
    "        # 如果人类玩家输入棋盘位置，e.g. 'A1'，\n",
    "        # 首先判断输入是否正确，然后再判断是否符合黑白棋规则的落子位置\n",
    "        while True:\n",
    "            action = input(\n",
    "                    \"请'{}-{}'方输入一个合法的坐标(e.g. 'D3'，若不想进行，请务必输入'Q'结束游戏。): \".format(player,\n",
    "                                                                                 self.color))\n",
    "\n",
    "            # 如果人类玩家输入 Q 则表示想结束比赛\n",
    "            if action == \"Q\" or action == 'q':\n",
    "                return \"Q\"\n",
    "            else:\n",
    "                row, col = action[1].upper(), action[0].upper()\n",
    "\n",
    "                # 检查人类输入是否正确\n",
    "                if row in '12345678' and col in 'ABCDEFGH':\n",
    "                    # 检查人类输入是否为符合规则的可落子位置\n",
    "                    if action in board.get_legal_actions(self.color):\n",
    "                        return action\n",
    "                else:\n",
    "                    print(\"你的输入不合法，请重新输入!\")\n"
   ]
  },
  {
   "cell_type": "markdown",
   "metadata": {},
   "source": [
    "人类玩家 `get_move()` 方法主要思路是：\n",
    "+ 人类玩家输入落子位置，如果输入'Q', 则返回 'Q' 并结束比赛。\n",
    "+ 如果人类玩家输入棋盘位置，e.g. 'A1'，首先判断输入是否正确，然后再判断是否符合黑白棋规则的落子位置。\n"
   ]
  },
  {
   "cell_type": "code",
   "execution_count": null,
   "metadata": {},
   "outputs": [],
   "source": [
    "# 导入棋盘文件\n",
    "from board import Board\n",
    "\n",
    " # 棋盘初始化\n",
    "board = Board() \n",
    "\n",
    "# 打印初始化后棋盘\n",
    "board.display() \n",
    "\n",
    "# 人类玩家黑棋初始化\n",
    "black_player = HumanPlayer(\"X\") \n",
    "\n",
    "# 人类玩家黑棋落子位置\n",
    "action = black_player.get_move(board)\n",
    "\n",
    "\n",
    "# 如果人类玩家输入 'Q',则表示想结束比赛，\n",
    "# 现在只展示人类玩家的输入结果。\n",
    "if action == \"Q\":\n",
    "    print(\"结束游戏：\",action)\n",
    "else:\n",
    "    # 打印白方被翻转的棋子位置\n",
    "    print(\"黑棋落子后反转白棋的棋子坐标：\", board._move(action,black_player.color))\n",
    "\n",
    "# 打印人类玩家黑棋落子后的棋盘\n",
    "board.display() "
   ]
  },
  {
   "cell_type": "markdown",
   "metadata": {},
   "source": [
    "# 4 创建 Game 类\n",
    "\n",
    "该类主要实现黑白棋的对弈，已经实现随机玩家和人类玩家，现在可以来对弈一下。    \n",
    "Game 类（game.py）的主要方法和属性:  \n",
    "\n",
    "+ 属性：\n",
    "    + `self.board`：棋盘\n",
    "    + `self.current_player`：定义当前的下棋一方，考虑游戏还未开始我们定义为 None\n",
    "    + `self.black_player`：定义黑棋玩家 black_player\n",
    "    + `self.white_player`：定义白棋玩家 white_player\n",
    "\n",
    "    \n",
    "+ 方法：   \n",
    "    + `switch_player()`：下棋时切换玩家  \n",
    "    + `run()`：黑白棋游戏的主程序  "
   ]
  },
  {
   "cell_type": "code",
   "execution_count": null,
   "metadata": {},
   "outputs": [],
   "source": [
    "# 导入黑白棋文件\n",
    "from game import Game  \n",
    "\n",
    "# 人类玩家黑棋初始化\n",
    "black_player = HumanPlayer(\"X\")\n",
    "\n",
    "# 随机玩家白棋初始化\n",
    "white_player = RandomPlayer(\"O\")\n",
    "\n",
    "# 游戏初始化，第一个玩家是黑棋，第二个玩家是白棋\n",
    "game = Game(black_player, white_player)\n",
    "\n",
    "# 开始下棋\n",
    "game.run()"
   ]
  },
  {
   "cell_type": "markdown",
   "metadata": {},
   "source": [
    "考虑到人类下棋比较慢，我们直接采用随机玩家与随机玩家下棋,效果如下："
   ]
  },
  {
   "cell_type": "code",
   "execution_count": null,
   "metadata": {},
   "outputs": [],
   "source": [
    "# 导入黑白棋文件\n",
    "from game import Game  \n",
    "\n",
    "# 随机玩家黑棋初始化\n",
    "black_player = RandomPlayer(\"X\")\n",
    "\n",
    "# 随机玩家白棋初始化\n",
    "white_player = RandomPlayer(\"O\")\n",
    "\n",
    "# 游戏初始化，第一个玩家是黑棋，第二个玩家是白棋\n",
    "game = Game(black_player, white_player)\n",
    "\n",
    "# 开始下棋\n",
    "game.run()"
   ]
  },
  {
   "cell_type": "markdown",
   "metadata": {},
   "source": [
    "# 5 创建 AI 玩家\n",
    "通过以上流程的介绍或者学习，相信大家一定很熟悉如何玩这个游戏。  \n",
    "现在 AI 玩家需要大家来完善！    \n",
    "该部分主要是需要大家使用 **『蒙特卡洛树搜索算法』** 来实现 miniAlphaGo for Reversi。  "
   ]
  },
  {
   "cell_type": "code",
   "execution_count": null,
   "metadata": {
    "deletable": false,
    "select": true
   },
   "outputs": [],
   "source": [
    "from MCTS import MC\n",
    "import random\n",
    "\n",
    "class AIPlayer:\n",
    "    \"\"\"\n",
    "    AI 玩家\n",
    "    \"\"\"\n",
    "\n",
    "    def __init__(self, color):\n",
    "        \"\"\"\n",
    "        玩家初始化\n",
    "        :param color: 下棋方，'X' - 黑棋，'O' - 白棋\n",
    "        \"\"\"\n",
    "\n",
    "        self.color = color\n",
    "\n",
    "    def get_move(self, board):\n",
    "        \"\"\"\n",
    "        根据当前棋盘状态获取最佳落子位置\n",
    "        :param board: 棋盘\n",
    "        :return: action 最佳落子位置, e.g. 'A1'\n",
    "        \"\"\"\n",
    "        if self.color == 'X':\n",
    "            player_name = '黑棋'\n",
    "        else:\n",
    "            player_name = '白棋'\n",
    "        print(\"请等一会，对方 {}-{} 正在思考中...\".format(player_name, self.color))\n",
    "\n",
    "        # -----------------请实现你的算法代码--------------------------------------\n",
    "        MCTS = MC()\n",
    "        action = MCTS.tree_search(board, self.color)\n",
    "        # ------------------------------------------------------------------------\n",
    "\n",
    "        return action\n"
   ]
  },
  {
   "cell_type": "markdown",
   "metadata": {},
   "source": [
    "以上就是 AI 玩家的初步代码，其中特别注意：\n",
    "1. **请不要修改get_move方法的输入和输出**。\n",
    "2. 可以添加 AIPlayer 的属性和方法。\n",
    "3. 完善算法时请注意落子时间：落子需要在 **60s** 之内！\n",
    "4. 落子 3 次不在合法范围内即判断该方失败, 故落子前请检查棋子的合法性。"
   ]
  },
  {
   "cell_type": "markdown",
   "metadata": {},
   "source": [
    "## 5.1 测试 AI 玩家 \n",
    "如果您已经实现 AIPlayer，你可以选人类玩家、随机玩家与 AIPlayer 算法对战，甚至 AIPlayer 与 AIPlayer 自己对战！"
   ]
  },
  {
   "cell_type": "code",
   "execution_count": null,
   "metadata": {},
   "outputs": [],
   "source": [
    "# 导入黑白棋文件\n",
    "from game import Game  \n",
    "\n",
    "# 人类玩家黑棋初始化\n",
    "black_player =  HumanPlayer(\"X\")\n",
    "\n",
    "# AI 玩家 白棋初始化\n",
    "white_player = AIPlayer(\"O\")\n",
    "\n",
    "# 游戏初始化，第一个玩家是黑棋，第二个玩家是白棋\n",
    "game = Game(black_player, white_player)\n",
    "\n",
    "# 开始下棋\n",
    "game.run()"
   ]
  }
 ],
 "metadata": {
  "kernelspec": {
   "display_name": "Python 3",
   "language": "python",
   "name": "python3"
  },
  "language_info": {
   "codemirror_mode": {
    "name": "ipython",
    "version": 3
   },
   "file_extension": ".py",
   "mimetype": "text/x-python",
   "name": "python",
   "nbconvert_exporter": "python",
   "pygments_lexer": "ipython3",
   "version": "3.7.5"
  }
 },
 "nbformat": 4,
 "nbformat_minor": 2
}